{
 "cells": [
  {
   "cell_type": "code",
   "execution_count": 1,
   "id": "ed134feb",
   "metadata": {},
   "outputs": [],
   "source": [
    "import pandas as pd\n",
    "import numpy as np\n",
    "import seaborn as sns \n",
    "import matplotlib.pyplot as plt\n",
    "import time\n",
    "import json\n",
    "%matplotlib inline"
   ]
  },
  {
   "cell_type": "markdown",
   "id": "280b7a9b",
   "metadata": {},
   "source": [
    "### Dataset length is 53687 hospitals with their GPS location. "
   ]
  },
  {
   "cell_type": "code",
   "execution_count": 2,
   "id": "8a1d43ca",
   "metadata": {},
   "outputs": [],
   "source": [
    "df = pd.read_csv(\"../data/source/WorldHospitals.csv\")"
   ]
  },
  {
   "cell_type": "code",
   "execution_count": 3,
   "id": "c51c2911",
   "metadata": {},
   "outputs": [
    {
     "data": {
      "text/html": [
       "<div>\n",
       "<style scoped>\n",
       "    .dataframe tbody tr th:only-of-type {\n",
       "        vertical-align: middle;\n",
       "    }\n",
       "\n",
       "    .dataframe tbody tr th {\n",
       "        vertical-align: top;\n",
       "    }\n",
       "\n",
       "    .dataframe thead th {\n",
       "        text-align: right;\n",
       "    }\n",
       "</style>\n",
       "<table border=\"1\" class=\"dataframe\">\n",
       "  <thead>\n",
       "    <tr style=\"text-align: right;\">\n",
       "      <th></th>\n",
       "      <th>name</th>\n",
       "      <th>lat</th>\n",
       "      <th>lon</th>\n",
       "    </tr>\n",
       "  </thead>\n",
       "  <tbody>\n",
       "    <tr>\n",
       "      <th>0</th>\n",
       "      <td>Total Rf Heliport</td>\n",
       "      <td>40.070801</td>\n",
       "      <td>-74.933601</td>\n",
       "    </tr>\n",
       "    <tr>\n",
       "      <th>1</th>\n",
       "      <td>Aero B Ranch Airport</td>\n",
       "      <td>38.704022</td>\n",
       "      <td>-101.473911</td>\n",
       "    </tr>\n",
       "    <tr>\n",
       "      <th>2</th>\n",
       "      <td>Cass Field</td>\n",
       "      <td>40.622202</td>\n",
       "      <td>-104.344002</td>\n",
       "    </tr>\n",
       "    <tr>\n",
       "      <th>3</th>\n",
       "      <td>Albert Guido Memorial Heliport</td>\n",
       "      <td>40.741798</td>\n",
       "      <td>-74.137100</td>\n",
       "    </tr>\n",
       "    <tr>\n",
       "      <th>4</th>\n",
       "      <td>Providence Hospital Heliport</td>\n",
       "      <td>42.338699</td>\n",
       "      <td>-122.862000</td>\n",
       "    </tr>\n",
       "  </tbody>\n",
       "</table>\n",
       "</div>"
      ],
      "text/plain": [
       "                             name        lat         lon\n",
       "0               Total Rf Heliport  40.070801  -74.933601\n",
       "1            Aero B Ranch Airport  38.704022 -101.473911\n",
       "2                      Cass Field  40.622202 -104.344002\n",
       "3  Albert Guido Memorial Heliport  40.741798  -74.137100\n",
       "4    Providence Hospital Heliport  42.338699 -122.862000"
      ]
     },
     "execution_count": 3,
     "metadata": {},
     "output_type": "execute_result"
    }
   ],
   "source": [
    "df.head()"
   ]
  },
  {
   "cell_type": "code",
   "execution_count": 4,
   "id": "bff020dd",
   "metadata": {},
   "outputs": [],
   "source": [
    "A = df.to_dict(\"list\")"
   ]
  },
  {
   "cell_type": "code",
   "execution_count": 5,
   "id": "aa1f9252",
   "metadata": {},
   "outputs": [],
   "source": [
    "registry = dict(zip(zip(A[\"lat\"],A[\"lon\"]),A[\"name\"]))"
   ]
  },
  {
   "cell_type": "code",
   "execution_count": 6,
   "id": "39d62ea4",
   "metadata": {},
   "outputs": [],
   "source": [
    "records = df.to_dict(\"records\")"
   ]
  },
  {
   "cell_type": "markdown",
   "id": "58e0a0fa",
   "metadata": {},
   "source": [
    "## Test set"
   ]
  },
  {
   "cell_type": "code",
   "execution_count": 7,
   "id": "5bf93973",
   "metadata": {},
   "outputs": [],
   "source": [
    "test = records[:10]"
   ]
  },
  {
   "cell_type": "markdown",
   "id": "2c99ad1e",
   "metadata": {},
   "source": [
    "## Execute shortest path algorithm"
   ]
  },
  {
   "cell_type": "code",
   "execution_count": 8,
   "id": "8b75ad43",
   "metadata": {},
   "outputs": [],
   "source": [
    "from classes.algo import shortestPath "
   ]
  },
  {
   "cell_type": "code",
   "execution_count": 9,
   "id": "46aa5c01",
   "metadata": {},
   "outputs": [
    {
     "name": "stdout",
     "output_type": "stream",
     "text": [
      "Seconds elapsed: 0.0038785934448242188 seconds\n"
     ]
    }
   ],
   "source": [
    "start_time = time.time() \n",
    "\n",
    "shortestPathData = shortestPath(registry, test)\n",
    "\n",
    "end_time = time.time() \n",
    "print(f\"Seconds elapsed: {end_time-start_time} seconds\")"
   ]
  },
  {
   "cell_type": "markdown",
   "id": "ebe19cc7",
   "metadata": {},
   "source": [
    "## All Paths"
   ]
  },
  {
   "cell_type": "code",
   "execution_count": 10,
   "id": "65bd1bcc",
   "metadata": {},
   "outputs": [],
   "source": [
    "from classes.algo import allPaths"
   ]
  },
  {
   "cell_type": "code",
   "execution_count": 11,
   "id": "2a25017d",
   "metadata": {
    "scrolled": true
   },
   "outputs": [
    {
     "name": "stdout",
     "output_type": "stream",
     "text": [
      "Seconds elapsed: 0.0036072731018066406 seconds\n"
     ]
    }
   ],
   "source": [
    "start_time = time.time() \n",
    "\n",
    "allPathsData = allPaths(registry, test)\n",
    "\n",
    "end_time = time.time() \n",
    "print(f\"Seconds elapsed: {end_time-start_time} seconds\")"
   ]
  },
  {
   "cell_type": "markdown",
   "id": "758a5c74",
   "metadata": {},
   "source": [
    "### Full data"
   ]
  },
  {
   "cell_type": "code",
   "execution_count": 12,
   "id": "9f28568e",
   "metadata": {},
   "outputs": [],
   "source": [
    "dataStore = \"../data/testData\"\n",
    "records = records[:101]"
   ]
  },
  {
   "cell_type": "code",
   "execution_count": 13,
   "id": "6ef3670c",
   "metadata": {},
   "outputs": [
    {
     "name": "stdout",
     "output_type": "stream",
     "text": [
      "Seconds elapsed: 0.18633151054382324 seconds\n"
     ]
    }
   ],
   "source": [
    "start_time = time.time() \n",
    "\n",
    "shortestPathData = shortestPath(registry, records)\n",
    "\n",
    "end_time = time.time() \n",
    "print(f\"Seconds elapsed: {end_time-start_time} seconds\")"
   ]
  },
  {
   "cell_type": "code",
   "execution_count": 14,
   "id": "2da1bd24",
   "metadata": {},
   "outputs": [],
   "source": [
    "with open(f\"{dataStore}/hospital-sort-full.json\",\"w\") as f:\n",
    "    json.dump(shortestPathData,f)"
   ]
  },
  {
   "cell_type": "code",
   "execution_count": 15,
   "id": "6b78bed5",
   "metadata": {},
   "outputs": [
    {
     "name": "stdout",
     "output_type": "stream",
     "text": [
      "Seconds elapsed: 0.199873685836792 seconds\n"
     ]
    }
   ],
   "source": [
    "start_time = time.time() \n",
    "\n",
    "allPathsData = allPaths(registry, records)\n",
    "\n",
    "end_time = time.time() \n",
    "print(f\"Seconds elapsed: {end_time-start_time} seconds\")"
   ]
  },
  {
   "cell_type": "code",
   "execution_count": 16,
   "id": "acdbb233",
   "metadata": {},
   "outputs": [],
   "source": [
    "with open(f\"{dataStore}/hospital-paths-full.json\",\"w\") as f:\n",
    "    json.dump(allPathsData,f)"
   ]
  }
 ],
 "metadata": {
  "kernelspec": {
   "display_name": "Python 3",
   "language": "python",
   "name": "python3"
  },
  "language_info": {
   "codemirror_mode": {
    "name": "ipython",
    "version": 3
   },
   "file_extension": ".py",
   "mimetype": "text/x-python",
   "name": "python",
   "nbconvert_exporter": "python",
   "pygments_lexer": "ipython3",
   "version": "3.9.5"
  }
 },
 "nbformat": 4,
 "nbformat_minor": 5
}
