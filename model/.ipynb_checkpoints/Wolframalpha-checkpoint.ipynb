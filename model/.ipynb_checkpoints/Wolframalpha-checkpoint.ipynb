{
 "cells": [
  {
   "cell_type": "code",
   "execution_count": 1,
   "metadata": {
    "collapsed": true
   },
   "outputs": [],
   "source": [
    "import wolframalpha\n",
    "import random as r\n",
    "from classes.AskWolfram import AskWolfram"
   ]
  },
  {
   "cell_type": "code",
   "execution_count": 2,
   "metadata": {
    "collapsed": true
   },
   "outputs": [],
   "source": [
    "arr=[r.randint(0,1001) for i in range(0,100000)]\n",
    "app_id=\"A77T9L-JY92QG7W88\"\n",
    "client=wolframalpha.Client(app_id=app_id)\n",
    "#question=\"Sort[{array}]\".format(array=arr)\n",
    "#res=client.query(question)"
   ]
  },
  {
   "cell_type": "code",
   "execution_count": 6,
   "metadata": {},
   "outputs": [
    {
     "data": {
      "text/plain": [
       "'Friday, April 20, 2018'"
      ]
     },
     "execution_count": 6,
     "metadata": {},
     "output_type": "execute_result"
    }
   ],
   "source": [
    "AskWolfram().askDirectly(\"What is today ?\")"
   ]
  },
  {
   "cell_type": "code",
   "execution_count": 3,
   "metadata": {
    "collapsed": true
   },
   "outputs": [],
   "source": [
    "r=client.query(\"Integrate[ (4*x*Surd[x,9])/ (x*Sqrt[x]) , { x,0,0.001}]\")"
   ]
  },
  {
   "cell_type": "code",
   "execution_count": 4,
   "metadata": {},
   "outputs": [
    {
     "data": {
      "text/plain": [
       "'integral_0^0.001 (4 x x^(1/9))/(x sqrt(x)) dx = 0.0960741'"
      ]
     },
     "execution_count": 4,
     "metadata": {},
     "output_type": "execute_result"
    }
   ],
   "source": [
    "next(r.results).text"
   ]
  },
  {
   "cell_type": "code",
   "execution_count": 29,
   "metadata": {
    "scrolled": true
   },
   "outputs": [
    {
     "name": "stdout",
     "output_type": "stream",
     "text": [
      "{'@title': 'Definite integral', '@scanner': 'Integral', '@id': 'Input', '@position': '100', '@error': 'false', '@numsubpods': '1', '@primary': 'true', 'subpod': {'@title': '', 'img': {'@src': 'https://www4c.wolframalpha.com/Calculate/MSP/MSP1572158bi817h7g9iei800003caibg6e871e8877?MSPStoreType=image/gif&s=27', '@alt': ' integral_0^0.001 (4 x x^(1/9))/(x sqrt(x)) dx = 0.0960741', '@title': ' integral_0^0.001 (4 x x^(1/9))/(x sqrt(x)) dx = 0.0960741', '@width': '199', '@height': '46'}, 'plaintext': 'integral_0^0.001 (4 x x^(1/9))/(x sqrt(x)) dx = 0.0960741'}, 'states': {'@count': '1', 'state': {'@name': 'Step-by-step solution', '@input': 'Input__Step-by-step solution'}}, 'infos': {'@count': '1', 'info': {'@text': 'x^(1/n) is the real-valued nth root of x', 'img': {'@src': 'https://www4c.wolframalpha.com/Calculate/MSP/MSP1573158bi817h7g9iei800004h48d63eidi942ia?MSPStoreType=image/gif&s=27', '@alt': 'x^(1/n) is the real-valued nth root of x', '@title': 'x^(1/n) is the real-valued nth root of x', '@width': '224', '@height': '22'}, 'link': [{'@url': 'http://reference.wolfram.com/language/ref/Surd.html', '@text': 'Documentation', '@title': 'Mathematica'}, {'@url': 'http://functions.wolfram.com/Surd', '@text': 'Properties', '@title': 'Wolfram Functions Site'}, {'@url': 'http://mathworld.wolfram.com/Surd.html', '@text': 'Definition', '@title': 'MathWorld'}]}}}\n",
      "{'@title': 'Visual representation of the integral', '@scanner': 'Integral', '@id': 'VisualRepresentationOfTheIntegral', '@position': '200', '@error': 'false', '@numsubpods': '1', 'subpod': {'@title': '', 'img': {'@src': 'https://www4c.wolframalpha.com/Calculate/MSP/MSP1574158bi817h7g9iei800004eiic2d6fb5ehgbi?MSPStoreType=image/gif&s=27', '@alt': '', '@title': '', '@width': '440', '@height': '274'}, 'plaintext': None}}\n",
      "{'@title': 'Indefinite integral', '@scanner': 'Integral', '@id': 'IndefiniteIntegral', '@position': '300', '@error': 'false', '@numsubpods': '1', 'subpod': {'@title': '', 'img': {'@src': 'https://www4c.wolframalpha.com/Calculate/MSP/MSP1575158bi817h7g9iei80000352g9e4h798iai41?MSPStoreType=image/gif&s=27', '@alt': ' integral (4 x x^(1/9))/(x sqrt(x)) dx = 72/11 sqrt(x) x^(1/9) + constant', '@title': ' integral (4 x x^(1/9))/(x sqrt(x)) dx = 72/11 sqrt(x) x^(1/9) + constant', '@width': '254', '@height': '46'}, 'plaintext': 'integral (4 x x^(1/9))/(x sqrt(x)) dx = 72/11 sqrt(x) x^(1/9) + constant'}, 'states': {'@count': '1', 'state': {'@name': 'Step-by-step solution', '@input': 'IndefiniteIntegral__Step-by-step solution'}}}\n"
     ]
    }
   ],
   "source": [
    "for p in r.pods:\n",
    "    print(p)"
   ]
  },
  {
   "cell_type": "code",
   "execution_count": 16,
   "metadata": {},
   "outputs": [
    {
     "ename": "TypeError",
     "evalue": "from_doc() missing 1 required positional argument: 'doc'",
     "output_type": "error",
     "traceback": [
      "\u001b[0;31m---------------------------------------------------------------------------\u001b[0m",
      "\u001b[0;31mTypeError\u001b[0m                                 Traceback (most recent call last)",
      "\u001b[0;32m<ipython-input-16-39e3a2c5e1f3>\u001b[0m in \u001b[0;36m<module>\u001b[0;34m()\u001b[0m\n\u001b[0;32m----> 1\u001b[0;31m \u001b[0mr\u001b[0m\u001b[0;34m.\u001b[0m\u001b[0mfrom_doc\u001b[0m\u001b[0;34m(\u001b[0m\u001b[0;34m)\u001b[0m\u001b[0;34m\u001b[0m\u001b[0m\n\u001b[0m",
      "\u001b[0;31mTypeError\u001b[0m: from_doc() missing 1 required positional argument: 'doc'"
     ]
    }
   ],
   "source": []
  },
  {
   "cell_type": "code",
   "execution_count": null,
   "metadata": {
    "collapsed": true
   },
   "outputs": [],
   "source": []
  }
 ],
 "metadata": {
  "kernelspec": {
   "display_name": "Python 3",
   "language": "python",
   "name": "python3"
  },
  "language_info": {
   "codemirror_mode": {
    "name": "ipython",
    "version": 3
   },
   "file_extension": ".py",
   "mimetype": "text/x-python",
   "name": "python",
   "nbconvert_exporter": "python",
   "pygments_lexer": "ipython3",
   "version": "3.6.3"
  }
 },
 "nbformat": 4,
 "nbformat_minor": 2
}
