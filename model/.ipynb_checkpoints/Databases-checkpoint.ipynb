{
 "cells": [
  {
   "cell_type": "markdown",
   "id": "34f807f7",
   "metadata": {},
   "source": [
    "## Databases "
   ]
  },
  {
   "cell_type": "code",
   "execution_count": 1,
   "id": "6cc6158d",
   "metadata": {},
   "outputs": [],
   "source": [
    "import os\n",
    "import pandas as pd\n",
    "import time"
   ]
  },
  {
   "cell_type": "code",
   "execution_count": 2,
   "id": "64f8c11c",
   "metadata": {},
   "outputs": [],
   "source": [
    "hostname = \"127.0.0.1\""
   ]
  },
  {
   "cell_type": "code",
   "execution_count": 3,
   "id": "880e29e9",
   "metadata": {},
   "outputs": [
    {
     "data": {
      "text/plain": [
       "['hospital-sort-full.json', 'hospital-paths-full.json', 'college.json']"
      ]
     },
     "execution_count": 3,
     "metadata": {},
     "output_type": "execute_result"
    }
   ],
   "source": [
    "os.listdir(\"../data/testData/\")"
   ]
  },
  {
   "cell_type": "code",
   "execution_count": 4,
   "id": "961a6185",
   "metadata": {},
   "outputs": [],
   "source": [
    "hospital = pd.read_json(\"../data/testData/hospital-sort-full.json\").to_dict(\"records\") \n",
    "hospitalAllPaths = pd.read_json(\"../data/testData/hospital-paths-full.json\").to_dict(\"list\")"
   ]
  },
  {
   "cell_type": "code",
   "execution_count": 5,
   "id": "830e8a5c",
   "metadata": {},
   "outputs": [],
   "source": [
    "college = pd.read_json(\"../data/testData/college.json\").to_dict(\"records\")"
   ]
  },
  {
   "cell_type": "markdown",
   "id": "06f2338c",
   "metadata": {},
   "source": [
    "### Mongo "
   ]
  },
  {
   "cell_type": "code",
   "execution_count": 6,
   "id": "f5def84d",
   "metadata": {},
   "outputs": [],
   "source": [
    "from pymongo import MongoClient"
   ]
  },
  {
   "cell_type": "code",
   "execution_count": 7,
   "id": "5273f0ff",
   "metadata": {},
   "outputs": [],
   "source": [
    "client = MongoClient(host=hostname,port=27017)"
   ]
  },
  {
   "cell_type": "code",
   "execution_count": 8,
   "id": "e8f53a5d",
   "metadata": {},
   "outputs": [
    {
     "data": {
      "text/plain": [
       "MongoClient(host=['127.0.0.1:27017'], document_class=dict, tz_aware=False, connect=True)"
      ]
     },
     "execution_count": 8,
     "metadata": {},
     "output_type": "execute_result"
    }
   ],
   "source": [
    "client"
   ]
  },
  {
   "cell_type": "code",
   "execution_count": 9,
   "id": "c280c7e5",
   "metadata": {},
   "outputs": [],
   "source": [
    "local = client[\"local\"]"
   ]
  },
  {
   "cell_type": "code",
   "execution_count": 10,
   "id": "13ac8e12",
   "metadata": {},
   "outputs": [],
   "source": [
    "allPaths = [dict(name=k, locations=v) for k,v in hospitalAllPaths.items()]"
   ]
  },
  {
   "cell_type": "code",
   "execution_count": 11,
   "id": "8116063a",
   "metadata": {
    "scrolled": true
   },
   "outputs": [
    {
     "data": {
      "text/plain": [
       "<pymongo.results.InsertManyResult at 0x7f93ff5ce8c0>"
      ]
     },
     "execution_count": 11,
     "metadata": {},
     "output_type": "execute_result"
    }
   ],
   "source": [
    "local[\"hospital\"].insert_many(hospital)"
   ]
  },
  {
   "cell_type": "code",
   "execution_count": 12,
   "id": "4110cfff",
   "metadata": {},
   "outputs": [
    {
     "data": {
      "text/plain": [
       "<pymongo.results.InsertManyResult at 0x7f9403d4e140>"
      ]
     },
     "execution_count": 12,
     "metadata": {},
     "output_type": "execute_result"
    }
   ],
   "source": [
    "local[\"hospitalPaths\"].insert_many(allPaths)"
   ]
  },
  {
   "cell_type": "code",
   "execution_count": 13,
   "id": "090bf414",
   "metadata": {},
   "outputs": [],
   "source": [
    "collegeMongo = local[\"college\"]"
   ]
  },
  {
   "cell_type": "code",
   "execution_count": 14,
   "id": "5eabf107",
   "metadata": {},
   "outputs": [
    {
     "data": {
      "text/plain": [
       "<pymongo.results.InsertManyResult at 0x7f93fe1a90c0>"
      ]
     },
     "execution_count": 14,
     "metadata": {},
     "output_type": "execute_result"
    }
   ],
   "source": [
    "collegeMongo.insert_many(college)"
   ]
  },
  {
   "cell_type": "markdown",
   "id": "2de237ef",
   "metadata": {},
   "source": [
    "### Neo4j "
   ]
  },
  {
   "cell_type": "code",
   "execution_count": 15,
   "id": "83474451",
   "metadata": {},
   "outputs": [],
   "source": [
    "from py2neo import Graph, Node, Relationship"
   ]
  },
  {
   "cell_type": "code",
   "execution_count": 16,
   "id": "90d1d1ef",
   "metadata": {},
   "outputs": [],
   "source": [
    "txpool = []\n",
    "for e in hospital:\n",
    "    start = Node(\"Hospital\",name=e[\"start_name\"],lat=e[\"start_lat\"],lon=e[\"start_lon\"])\n",
    "    end = Node(\"Hospital\",name=e[\"end_name\"],lat=e[\"end_lat\"],lon=e[\"end_lon\"])\n",
    "    \n",
    "    r = Relationship(start,\"NEAREST_PATH\",end)\n",
    "    #c = Relationship(start,\"IS_CONNECTED\",end,distance=e[\"distance\"])\n",
    "    txpool.append(r)\n",
    "    #txpool.append(c)\n",
    "    \n",
    "    paths = hospitalAllPaths.get(e[\"start_name\"])\n",
    "    \n",
    "    if not paths is None:\n",
    "        for i in paths: \n",
    "            destination = Node(\"Hospital\", name=i[\"end_name\"], lat=e[\"end_lat\"], lon=e[\"end_lon\"]) \n",
    "            is_connected = Relationship(start, \"IS_CONNECTED\", destination, distance=i[\"distance\"])\n",
    "            txpool.append(is_connected)\n",
    "    else: \n",
    "        continue "
   ]
  },
  {
   "cell_type": "code",
   "execution_count": null,
   "id": "f7128a7d",
   "metadata": {},
   "outputs": [],
   "source": [
    "unique = set([e[\"name\"] for e in college])\n",
    "\n",
    "for idx, collegeName in enumerate(unique):\n",
    "    # Filter \n",
    "    pred = list(filter(lambda e: e[\"name\"] == collegeName, college)) \n",
    "    getProgramName = list(map(lambda e: Node(\"ProgramName\",name=e[\"programName\"]), pred))\n",
    "                              \n",
    "    university = Node(\"University\", name=pred[0][\"name\"], web=pred[0][\"web\"], city=pred[0][\"city\"])    \n",
    "    \n",
    "    [txpool.append(Relationship(university,\"HAS_CAPACITY\",e)) for e in getProgramName]"
   ]
  },
  {
   "cell_type": "code",
   "execution_count": null,
   "id": "36f85543",
   "metadata": {},
   "outputs": [],
   "source": [
    "import time\n",
    "graph = Graph(f\"bolt://{hostname}:7687\", auth=(\"neo4j\", \"12345678\"))\n",
    "start_time = time.time() \n",
    "for idx, e in enumerate(txpool):  \n",
    "    if idx % 2 == 0:\n",
    "        tx = graph.begin()\n",
    "        print(f\"Processing {idx} out of {len(txpool)} - {tx.create(e)}\") \n",
    "        graph.commit(tx)\n",
    "print(f\"After commit: {time.time() - start_time}\")"
   ]
  },
  {
   "cell_type": "code",
   "execution_count": null,
   "id": "f017f1fa",
   "metadata": {},
   "outputs": [],
   "source": [
    "graph.run(\"MATCH (n) RETURN COUNT(n)\")"
   ]
  },
  {
   "cell_type": "code",
   "execution_count": null,
   "id": "23239cab",
   "metadata": {},
   "outputs": [],
   "source": [
    "#graph.run(\"MATCH (n) DETACH DELETE(n)\")"
   ]
  },
  {
   "cell_type": "code",
   "execution_count": null,
   "id": "184e96c6",
   "metadata": {},
   "outputs": [],
   "source": []
  }
 ],
 "metadata": {
  "kernelspec": {
   "display_name": "Python 3",
   "language": "python",
   "name": "python3"
  },
  "language_info": {
   "codemirror_mode": {
    "name": "ipython",
    "version": 3
   },
   "file_extension": ".py",
   "mimetype": "text/x-python",
   "name": "python",
   "nbconvert_exporter": "python",
   "pygments_lexer": "ipython3",
   "version": "3.9.5"
  }
 },
 "nbformat": 4,
 "nbformat_minor": 5
}
